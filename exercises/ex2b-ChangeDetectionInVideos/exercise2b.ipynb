{
 "cells": [
  {
   "cell_type": "markdown",
   "metadata": {},
   "source": [
    "#### Exercise 4\n",
    "Try to change $\\alpha$, $T$ and $A$. What effects do it have?\n",
    "\n",
    "Reducing $\\alpha$ causes the background image to be updated with new data at a faster rate. The difference between new frames and the background image is reduced, resulting in fewer pixel changes passing through the threshold $T$. A lower alpha requires a much more drastic change to trigger an alarm.\n",
    "\n",
    "Increasing $A$ means that changes are only detected for objects that take up large parts of the frame, smaller regions of change are not sufficient to trigger an alarm.\n",
    "\n",
    "Increasing $T$ reduces the noise due to small changes in camera input, it also reduces the percentage of changed pixels $F$ in any given frame and the reesulting change sensitivity of the program. "
   ]
  }
 ],
 "metadata": {
  "kernelspec": {
   "display_name": "Python 3.9.12 ('course02502')",
   "language": "python",
   "name": "python3"
  },
  "language_info": {
   "codemirror_mode": {
    "name": "ipython",
    "version": 3
   },
   "file_extension": ".py",
   "mimetype": "text/x-python",
   "name": "python",
   "nbconvert_exporter": "python",
   "pygments_lexer": "ipython3",
   "version": "3.9.12"
  },
  "orig_nbformat": 4,
  "vscode": {
   "interpreter": {
    "hash": "93a0b8be14aec51a1801e3af9a1112ab63db77bd96df197eee20b39175de4cea"
   }
  }
 },
 "nbformat": 4,
 "nbformat_minor": 2
}
