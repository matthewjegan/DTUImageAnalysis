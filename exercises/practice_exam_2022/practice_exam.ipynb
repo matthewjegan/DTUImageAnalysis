{
 "cells": [
  {
   "cell_type": "code",
   "execution_count": 2,
   "metadata": {},
   "outputs": [],
   "source": [
    "import numpy as np\n",
    "import matplotlib.pyplot as plt\n",
    "import scipy.io as sio\n",
    "from skimage import io\n",
    "from skimage.morphology import opening, closing\n",
    "from skimage.morphology import disk\n",
    "\n",
    "from LDA import LDA"
   ]
  },
  {
   "cell_type": "code",
   "execution_count": 32,
   "metadata": {},
   "outputs": [],
   "source": [
    "data = [[1.2, 1.1, 0],\n",
    "        [2.9, 0.4, 0],\n",
    "        [1.7, -2.7, 0],\n",
    "        [1.8, -0.3, 0],\n",
    "        [3.2, 1.3, 0],\n",
    "        [3.1, -0.9, 0],\n",
    "        [0.5, 1.7, 1],\n",
    "        [1.4, -2.1, 1],\n",
    "        [2.7, -0.8, 1],\n",
    "        [2.0, 0.5, 1]]\n",
    "data = np.reshape(data, (10, 3))\n",
    "X = data[:,[0,1]]\n",
    "T = data[:,2]"
   ]
  },
  {
   "cell_type": "code",
   "execution_count": 38,
   "metadata": {},
   "outputs": [
    {
     "data": {
      "image/png": "[encoded data removed]",
      "text/plain": [
       "<Figure size 640x480 with 1 Axes>"
      ]
     },
     "metadata": {},
     "output_type": "display_data"
    }
   ],
   "source": [
    "plt.scatter(X[np.arange(5),0], X[np.arange(5),1], color='b')\n",
    "plt.scatter(X[np.arange(5,10),0], X[np.arange(5,10),1], color='r')\n",
    "plt.show()"
   ]
  },
  {
   "cell_type": "code",
   "execution_count": 25,
   "metadata": {},
   "outputs": [],
   "source": [
    "W = LDA(X, T)\n",
    "Y = np.c_[np.ones((len(X), 1)), X] @ W.T\n",
    "PosteriorProb = np.clip(np.exp(Y) / np.sum(np.exp(Y),1)[:,np.newaxis], 0, 1)"
   ]
  },
  {
   "cell_type": "code",
   "execution_count": 46,
   "metadata": {},
   "outputs": [
    {
     "name": "stdout",
     "output_type": "stream",
     "text": [
      "[ True  True False False]\n",
      "[0.69125963 0.54004771 0.26885201 0.39110718]\n"
     ]
    }
   ],
   "source": [
    "posteriorC1 = np.zeros(X.shape[0])\n",
    "posteriorC2 = np.zeros(X.shape[0])\n",
    "\n",
    "posteriorC1 = PosteriorProb[:,0]\n",
    "posteriorC2 = PosteriorProb[:,1]\n",
    "\n",
    "mask_passive = posteriorC1 >= 0.5\n",
    "mask_active = posteriorC2 >= 0.5\n",
    "\n",
    "print(mask_active[6:])\n",
    "\n",
    "# Two active volcanoes are wrongly classified as passive\n",
    "\n",
    "print(posteriorC2[6:])"
   ]
  }
 ],
 "metadata": {
  "kernelspec": {
   "display_name": "course02502",
   "language": "python",
   "name": "python3"
  },
  "language_info": {
   "codemirror_mode": {
    "name": "ipython",
    "version": 3
   },
   "file_extension": ".py",
   "mimetype": "text/x-python",
   "name": "python",
   "nbconvert_exporter": "python",
   "pygments_lexer": "ipython3",
   "version": "3.9.12"
  },
  "orig_nbformat": 4,
  "vscode": {
   "interpreter": {
    "hash": "93a0b8be14aec51a1801e3af9a1112ab63db77bd96df197eee20b39175de4cea"
   }
  }
 },
 "nbformat": 4,
 "nbformat_minor": 2
}
